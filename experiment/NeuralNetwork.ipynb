{
 "cells": [
  {
   "cell_type": "code",
   "execution_count": 1,
   "metadata": {},
   "outputs": [
    {
     "name": "stderr",
     "output_type": "stream",
     "text": [
      "/Users/ushirraval/Workspace/cos711-a2/.venv/lib/python3.9/site-packages/pandas/compat/__init__.py:124: UserWarning: Could not import the lzma module. Your installed Python is incomplete. Attempting to use lzma compression will result in a RuntimeError.\n",
      "  warnings.warn(msg)\n"
     ]
    }
   ],
   "source": [
    "import tensorflow as tf\n",
    "import pandas as pd\n",
    "import math\n",
    "from tensorflow import keras\n",
    "\n",
    "SHUFFLE_BUFFER = 500\n",
    "BATCH_SIZE = 36\n",
    "EPOCHS = 100"
   ]
  },
  {
   "cell_type": "code",
   "execution_count": 2,
   "metadata": {},
   "outputs": [],
   "source": [
    "data = pd.read_csv('data/prepared_data.csv')\n",
    "\n",
    "TRAINING_SIZE = math.floor(0.5*len(data))\n",
    "TEST_SIZE = math.floor(0.3*len(data))\n",
    "EVALUATION_SIZE = math.floor(0.2*len(data))\n",
    "\n",
    "indices = (TRAINING_SIZE, TRAINING_SIZE+TEST_SIZE, TRAINING_SIZE+TEST_SIZE+EVALUATION_SIZE)\n",
    "inputs = ['ra', 'dec', 'u', 'g', 'r', 'i', 'z', 'redshift']\n",
    "outputs = ['class_GALAXY','class_QSO','class_STAR']\n",
    "\n",
    "training = data[0:indices[0]]\n",
    "test = data[indices[0]:indices[1]]\n",
    "evaluation = data[indices[1]:indices[2]]\n",
    "professor = {\n",
    "\t\"training\": {\n",
    "\t\t\"questions\": training[inputs],\n",
    "\t\t\"answers\": training[outputs]\n",
    "\t},\n",
    "\t\"test\": {\n",
    "\t\t\"questions\": test[inputs],\n",
    "\t\t\"answers\": test[outputs]\n",
    "\t},\n",
    "\t\"evaluation\": {\n",
    "\t\t\"questions\": evaluation[inputs],\n",
    "\t\t\"answers\": evaluation[outputs]\n",
    "\t}\n",
    "}"
   ]
  },
  {
   "cell_type": "code",
   "execution_count": 3,
   "metadata": {},
   "outputs": [
    {
     "name": "stderr",
     "output_type": "stream",
     "text": [
      "2021-11-01 00:31:26.982328: I tensorflow/core/platform/cpu_feature_guard.cc:142] This TensorFlow binary is optimized with oneAPI Deep Neural Network Library (oneDNN) to use the following CPU instructions in performance-critical operations:  AVX2 FMA\n",
      "To enable them in other operations, rebuild TensorFlow with the appropriate compiler flags.\n",
      "2021-11-01 00:31:27.023228: I tensorflow/compiler/mlir/mlir_graph_optimization_pass.cc:185] None of the MLIR Optimization Passes are enabled (registered 2)\n"
     ]
    },
    {
     "name": "stdout",
     "output_type": "stream",
     "text": [
      "Epoch 1/100\n",
      "139/139 [==============================] - 2s 7ms/step - loss: 0.6824 - accuracy: 0.3884 - val_loss: 0.6560 - val_accuracy: 0.3827\n",
      "Epoch 2/100\n",
      "139/139 [==============================] - 0s 2ms/step - loss: 0.6470 - accuracy: 0.3888 - val_loss: 0.6347 - val_accuracy: 0.4127\n",
      "Epoch 3/100\n",
      "139/139 [==============================] - 0s 3ms/step - loss: 0.6298 - accuracy: 0.4500 - val_loss: 0.6224 - val_accuracy: 0.4890\n",
      "Epoch 4/100\n",
      "139/139 [==============================] - 0s 2ms/step - loss: 0.6194 - accuracy: 0.5092 - val_loss: 0.6145 - val_accuracy: 0.5253\n",
      "Epoch 5/100\n",
      "139/139 [==============================] - 0s 2ms/step - loss: 0.6124 - accuracy: 0.5290 - val_loss: 0.6089 - val_accuracy: 0.5430\n",
      "Epoch 6/100\n",
      "139/139 [==============================] - 0s 2ms/step - loss: 0.6073 - accuracy: 0.5394 - val_loss: 0.6046 - val_accuracy: 0.5567\n",
      "Epoch 7/100\n",
      "139/139 [==============================] - 0s 2ms/step - loss: 0.6033 - accuracy: 0.5468 - val_loss: 0.6013 - val_accuracy: 0.5633\n",
      "Epoch 8/100\n",
      "139/139 [==============================] - 0s 2ms/step - loss: 0.5998 - accuracy: 0.5536 - val_loss: 0.5984 - val_accuracy: 0.5723\n",
      "Epoch 9/100\n",
      "139/139 [==============================] - 0s 2ms/step - loss: 0.5968 - accuracy: 0.5594 - val_loss: 0.5958 - val_accuracy: 0.5763\n",
      "Epoch 10/100\n",
      "139/139 [==============================] - 0s 2ms/step - loss: 0.5938 - accuracy: 0.5658 - val_loss: 0.5932 - val_accuracy: 0.5800\n",
      "Epoch 11/100\n",
      "139/139 [==============================] - 0s 2ms/step - loss: 0.5905 - accuracy: 0.5736 - val_loss: 0.5905 - val_accuracy: 0.5867\n",
      "Epoch 12/100\n",
      "139/139 [==============================] - 0s 2ms/step - loss: 0.5869 - accuracy: 0.5794 - val_loss: 0.5876 - val_accuracy: 0.5940\n",
      "Epoch 13/100\n",
      "139/139 [==============================] - 0s 2ms/step - loss: 0.5830 - accuracy: 0.5844 - val_loss: 0.5844 - val_accuracy: 0.5930\n",
      "Epoch 14/100\n",
      "139/139 [==============================] - 0s 2ms/step - loss: 0.5790 - accuracy: 0.5954 - val_loss: 0.5812 - val_accuracy: 0.5917\n",
      "Epoch 15/100\n",
      "139/139 [==============================] - 0s 3ms/step - loss: 0.5750 - accuracy: 0.6076 - val_loss: 0.5778 - val_accuracy: 0.5983\n",
      "Epoch 16/100\n",
      "139/139 [==============================] - 1s 4ms/step - loss: 0.5709 - accuracy: 0.6218 - val_loss: 0.5743 - val_accuracy: 0.6083\n",
      "Epoch 17/100\n",
      "139/139 [==============================] - 1s 4ms/step - loss: 0.5667 - accuracy: 0.6430 - val_loss: 0.5706 - val_accuracy: 0.6277\n",
      "Epoch 18/100\n",
      "139/139 [==============================] - 0s 2ms/step - loss: 0.5623 - accuracy: 0.6678 - val_loss: 0.5667 - val_accuracy: 0.6543\n",
      "Epoch 19/100\n",
      "139/139 [==============================] - 0s 2ms/step - loss: 0.5575 - accuracy: 0.7006 - val_loss: 0.5626 - val_accuracy: 0.6743\n",
      "Epoch 20/100\n",
      "139/139 [==============================] - 0s 2ms/step - loss: 0.5525 - accuracy: 0.7252 - val_loss: 0.5584 - val_accuracy: 0.6933\n",
      "Epoch 21/100\n",
      "139/139 [==============================] - 0s 2ms/step - loss: 0.5473 - accuracy: 0.7440 - val_loss: 0.5539 - val_accuracy: 0.7040\n",
      "Epoch 22/100\n",
      "139/139 [==============================] - 0s 2ms/step - loss: 0.5420 - accuracy: 0.7540 - val_loss: 0.5493 - val_accuracy: 0.7130\n",
      "Epoch 23/100\n",
      "139/139 [==============================] - 0s 2ms/step - loss: 0.5367 - accuracy: 0.7594 - val_loss: 0.5447 - val_accuracy: 0.7203\n",
      "Epoch 24/100\n",
      "139/139 [==============================] - 0s 2ms/step - loss: 0.5314 - accuracy: 0.7630 - val_loss: 0.5402 - val_accuracy: 0.7223\n",
      "Epoch 25/100\n",
      "139/139 [==============================] - 0s 2ms/step - loss: 0.5261 - accuracy: 0.7684 - val_loss: 0.5356 - val_accuracy: 0.7273\n",
      "Epoch 26/100\n",
      "139/139 [==============================] - 0s 2ms/step - loss: 0.5210 - accuracy: 0.7712 - val_loss: 0.5311 - val_accuracy: 0.7340\n",
      "Epoch 27/100\n",
      "139/139 [==============================] - 0s 2ms/step - loss: 0.5159 - accuracy: 0.7758 - val_loss: 0.5266 - val_accuracy: 0.7373\n",
      "Epoch 28/100\n",
      "139/139 [==============================] - 0s 2ms/step - loss: 0.5110 - accuracy: 0.7818 - val_loss: 0.5221 - val_accuracy: 0.7430\n",
      "Epoch 29/100\n",
      "139/139 [==============================] - 0s 2ms/step - loss: 0.5063 - accuracy: 0.7842 - val_loss: 0.5177 - val_accuracy: 0.7493\n",
      "Epoch 30/100\n",
      "139/139 [==============================] - 0s 2ms/step - loss: 0.5017 - accuracy: 0.7878 - val_loss: 0.5132 - val_accuracy: 0.7567\n",
      "Epoch 31/100\n",
      "139/139 [==============================] - 0s 2ms/step - loss: 0.4976 - accuracy: 0.7922 - val_loss: 0.5093 - val_accuracy: 0.7587\n",
      "Epoch 32/100\n",
      "139/139 [==============================] - 0s 3ms/step - loss: 0.4938 - accuracy: 0.7948 - val_loss: 0.5053 - val_accuracy: 0.7627\n",
      "Epoch 33/100\n",
      "139/139 [==============================] - 0s 2ms/step - loss: 0.4904 - accuracy: 0.7994 - val_loss: 0.5016 - val_accuracy: 0.7680\n",
      "Epoch 34/100\n",
      "139/139 [==============================] - 0s 2ms/step - loss: 0.4873 - accuracy: 0.8014 - val_loss: 0.4983 - val_accuracy: 0.7723\n",
      "Epoch 35/100\n",
      "139/139 [==============================] - 0s 2ms/step - loss: 0.4844 - accuracy: 0.8070 - val_loss: 0.4949 - val_accuracy: 0.7757\n",
      "Epoch 36/100\n",
      "139/139 [==============================] - 0s 2ms/step - loss: 0.4818 - accuracy: 0.8080 - val_loss: 0.4919 - val_accuracy: 0.7830\n",
      "Epoch 37/100\n",
      "139/139 [==============================] - 0s 2ms/step - loss: 0.4794 - accuracy: 0.8102 - val_loss: 0.4889 - val_accuracy: 0.7890\n",
      "Epoch 38/100\n",
      "139/139 [==============================] - 0s 2ms/step - loss: 0.4771 - accuracy: 0.8134 - val_loss: 0.4862 - val_accuracy: 0.7967\n",
      "Epoch 39/100\n",
      "139/139 [==============================] - 0s 2ms/step - loss: 0.4749 - accuracy: 0.8188 - val_loss: 0.4835 - val_accuracy: 0.8010\n",
      "Epoch 40/100\n",
      "139/139 [==============================] - 0s 2ms/step - loss: 0.4729 - accuracy: 0.8210 - val_loss: 0.4808 - val_accuracy: 0.8040\n",
      "Epoch 41/100\n",
      "139/139 [==============================] - 0s 3ms/step - loss: 0.4709 - accuracy: 0.8228 - val_loss: 0.4784 - val_accuracy: 0.8090\n",
      "Epoch 42/100\n",
      "139/139 [==============================] - 0s 3ms/step - loss: 0.4689 - accuracy: 0.8244 - val_loss: 0.4761 - val_accuracy: 0.8137\n",
      "Epoch 43/100\n",
      "139/139 [==============================] - 0s 2ms/step - loss: 0.4669 - accuracy: 0.8296 - val_loss: 0.4737 - val_accuracy: 0.8190\n",
      "Epoch 44/100\n",
      "139/139 [==============================] - 0s 2ms/step - loss: 0.4648 - accuracy: 0.8340 - val_loss: 0.4713 - val_accuracy: 0.8250\n",
      "Epoch 45/100\n",
      "139/139 [==============================] - 0s 2ms/step - loss: 0.4627 - accuracy: 0.8382 - val_loss: 0.4690 - val_accuracy: 0.8307\n",
      "Epoch 46/100\n",
      "139/139 [==============================] - 0s 2ms/step - loss: 0.4605 - accuracy: 0.8404 - val_loss: 0.4667 - val_accuracy: 0.8357\n",
      "Epoch 47/100\n",
      "139/139 [==============================] - 0s 2ms/step - loss: 0.4583 - accuracy: 0.8460 - val_loss: 0.4643 - val_accuracy: 0.8420\n",
      "Epoch 48/100\n",
      "139/139 [==============================] - 0s 2ms/step - loss: 0.4562 - accuracy: 0.8478 - val_loss: 0.4623 - val_accuracy: 0.8460\n",
      "Epoch 49/100\n",
      "139/139 [==============================] - 0s 2ms/step - loss: 0.4541 - accuracy: 0.8538 - val_loss: 0.4601 - val_accuracy: 0.8507\n",
      "Epoch 50/100\n",
      "139/139 [==============================] - 0s 2ms/step - loss: 0.4520 - accuracy: 0.8546 - val_loss: 0.4580 - val_accuracy: 0.8550\n",
      "Epoch 51/100\n",
      "139/139 [==============================] - 0s 2ms/step - loss: 0.4499 - accuracy: 0.8582 - val_loss: 0.4559 - val_accuracy: 0.8580\n",
      "Epoch 52/100\n",
      "139/139 [==============================] - 0s 2ms/step - loss: 0.4478 - accuracy: 0.8638 - val_loss: 0.4539 - val_accuracy: 0.8620\n",
      "Epoch 53/100\n",
      "139/139 [==============================] - 0s 2ms/step - loss: 0.4456 - accuracy: 0.8664 - val_loss: 0.4517 - val_accuracy: 0.8670\n",
      "Epoch 54/100\n",
      "139/139 [==============================] - 0s 3ms/step - loss: 0.4435 - accuracy: 0.8692 - val_loss: 0.4495 - val_accuracy: 0.8700\n",
      "Epoch 55/100\n",
      "139/139 [==============================] - 0s 1ms/step - loss: 0.4413 - accuracy: 0.8724 - val_loss: 0.4473 - val_accuracy: 0.8733\n",
      "Epoch 56/100\n",
      "139/139 [==============================] - 0s 2ms/step - loss: 0.4389 - accuracy: 0.8758 - val_loss: 0.4453 - val_accuracy: 0.8763\n",
      "Epoch 57/100\n",
      "139/139 [==============================] - 0s 2ms/step - loss: 0.4366 - accuracy: 0.8800 - val_loss: 0.4432 - val_accuracy: 0.8797\n",
      "Epoch 58/100\n",
      "139/139 [==============================] - 0s 1ms/step - loss: 0.4344 - accuracy: 0.8834 - val_loss: 0.4410 - val_accuracy: 0.8810\n",
      "Epoch 59/100\n",
      "139/139 [==============================] - 0s 1ms/step - loss: 0.4321 - accuracy: 0.8876 - val_loss: 0.4386 - val_accuracy: 0.8863\n",
      "Epoch 60/100\n",
      "139/139 [==============================] - 0s 2ms/step - loss: 0.4298 - accuracy: 0.8920 - val_loss: 0.4365 - val_accuracy: 0.8903\n",
      "Epoch 61/100\n",
      "139/139 [==============================] - 0s 2ms/step - loss: 0.4275 - accuracy: 0.8958 - val_loss: 0.4343 - val_accuracy: 0.8933\n",
      "Epoch 62/100\n",
      "139/139 [==============================] - 0s 2ms/step - loss: 0.4253 - accuracy: 0.8988 - val_loss: 0.4318 - val_accuracy: 0.8980\n",
      "Epoch 63/100\n",
      "139/139 [==============================] - 0s 2ms/step - loss: 0.4232 - accuracy: 0.9050 - val_loss: 0.4298 - val_accuracy: 0.9023\n",
      "Epoch 64/100\n",
      "139/139 [==============================] - 0s 2ms/step - loss: 0.4211 - accuracy: 0.9084 - val_loss: 0.4278 - val_accuracy: 0.9063\n",
      "Epoch 65/100\n",
      "139/139 [==============================] - 0s 2ms/step - loss: 0.4190 - accuracy: 0.9116 - val_loss: 0.4257 - val_accuracy: 0.9093\n",
      "Epoch 66/100\n",
      "139/139 [==============================] - 0s 2ms/step - loss: 0.4170 - accuracy: 0.9152 - val_loss: 0.4233 - val_accuracy: 0.9113\n",
      "Epoch 67/100\n",
      "139/139 [==============================] - 0s 2ms/step - loss: 0.4150 - accuracy: 0.9182 - val_loss: 0.4213 - val_accuracy: 0.9163\n",
      "Epoch 68/100\n",
      "139/139 [==============================] - 0s 2ms/step - loss: 0.4131 - accuracy: 0.9210 - val_loss: 0.4191 - val_accuracy: 0.9200\n",
      "Epoch 69/100\n",
      "139/139 [==============================] - 0s 2ms/step - loss: 0.4112 - accuracy: 0.9238 - val_loss: 0.4171 - val_accuracy: 0.9220\n",
      "Epoch 70/100\n",
      "139/139 [==============================] - 0s 2ms/step - loss: 0.4095 - accuracy: 0.9286 - val_loss: 0.4155 - val_accuracy: 0.9243\n",
      "Epoch 71/100\n",
      "139/139 [==============================] - 0s 2ms/step - loss: 0.4077 - accuracy: 0.9318 - val_loss: 0.4136 - val_accuracy: 0.9297\n",
      "Epoch 72/100\n",
      "139/139 [==============================] - 0s 2ms/step - loss: 0.4061 - accuracy: 0.9342 - val_loss: 0.4117 - val_accuracy: 0.9320\n",
      "Epoch 73/100\n",
      "139/139 [==============================] - 0s 2ms/step - loss: 0.4045 - accuracy: 0.9372 - val_loss: 0.4099 - val_accuracy: 0.9340\n",
      "Epoch 74/100\n",
      "139/139 [==============================] - 0s 2ms/step - loss: 0.4030 - accuracy: 0.9392 - val_loss: 0.4085 - val_accuracy: 0.9363\n",
      "Epoch 75/100\n",
      "139/139 [==============================] - 0s 2ms/step - loss: 0.4015 - accuracy: 0.9410 - val_loss: 0.4066 - val_accuracy: 0.9383\n",
      "Epoch 76/100\n",
      "139/139 [==============================] - 0s 2ms/step - loss: 0.4003 - accuracy: 0.9426 - val_loss: 0.4055 - val_accuracy: 0.9400\n",
      "Epoch 77/100\n",
      "139/139 [==============================] - 0s 2ms/step - loss: 0.3990 - accuracy: 0.9444 - val_loss: 0.4042 - val_accuracy: 0.9413\n",
      "Epoch 78/100\n",
      "139/139 [==============================] - 0s 2ms/step - loss: 0.3978 - accuracy: 0.9462 - val_loss: 0.4025 - val_accuracy: 0.9433\n",
      "Epoch 79/100\n",
      "139/139 [==============================] - 0s 2ms/step - loss: 0.3966 - accuracy: 0.9480 - val_loss: 0.4011 - val_accuracy: 0.9443\n",
      "Epoch 80/100\n",
      "139/139 [==============================] - 0s 1ms/step - loss: 0.3955 - accuracy: 0.9482 - val_loss: 0.4002 - val_accuracy: 0.9453\n",
      "Epoch 81/100\n",
      "139/139 [==============================] - 0s 2ms/step - loss: 0.3945 - accuracy: 0.9488 - val_loss: 0.3989 - val_accuracy: 0.9460\n",
      "Epoch 82/100\n",
      "139/139 [==============================] - 0s 2ms/step - loss: 0.3934 - accuracy: 0.9498 - val_loss: 0.3979 - val_accuracy: 0.9473\n",
      "Epoch 83/100\n",
      "139/139 [==============================] - 0s 2ms/step - loss: 0.3925 - accuracy: 0.9498 - val_loss: 0.3965 - val_accuracy: 0.9497\n",
      "Epoch 84/100\n",
      "139/139 [==============================] - 0s 2ms/step - loss: 0.3915 - accuracy: 0.9508 - val_loss: 0.3956 - val_accuracy: 0.9497\n",
      "Epoch 85/100\n",
      "139/139 [==============================] - 0s 1ms/step - loss: 0.3907 - accuracy: 0.9518 - val_loss: 0.3946 - val_accuracy: 0.9500\n",
      "Epoch 86/100\n",
      "139/139 [==============================] - 0s 2ms/step - loss: 0.3898 - accuracy: 0.9528 - val_loss: 0.3936 - val_accuracy: 0.9517\n",
      "Epoch 87/100\n",
      "139/139 [==============================] - 0s 1ms/step - loss: 0.3891 - accuracy: 0.9538 - val_loss: 0.3928 - val_accuracy: 0.9523\n",
      "Epoch 88/100\n",
      "139/139 [==============================] - 0s 2ms/step - loss: 0.3883 - accuracy: 0.9532 - val_loss: 0.3919 - val_accuracy: 0.9530\n",
      "Epoch 89/100\n",
      "139/139 [==============================] - 0s 1ms/step - loss: 0.3876 - accuracy: 0.9548 - val_loss: 0.3919 - val_accuracy: 0.9520\n",
      "Epoch 90/100\n",
      "139/139 [==============================] - 0s 2ms/step - loss: 0.3869 - accuracy: 0.9538 - val_loss: 0.3909 - val_accuracy: 0.9530\n",
      "Epoch 91/100\n",
      "139/139 [==============================] - 0s 2ms/step - loss: 0.3863 - accuracy: 0.9546 - val_loss: 0.3899 - val_accuracy: 0.9547\n",
      "Epoch 92/100\n",
      "139/139 [==============================] - 0s 2ms/step - loss: 0.3856 - accuracy: 0.9552 - val_loss: 0.3896 - val_accuracy: 0.9537\n",
      "Epoch 93/100\n",
      "139/139 [==============================] - 0s 2ms/step - loss: 0.3850 - accuracy: 0.9548 - val_loss: 0.3886 - val_accuracy: 0.9547\n",
      "Epoch 94/100\n",
      "139/139 [==============================] - 0s 2ms/step - loss: 0.3844 - accuracy: 0.9552 - val_loss: 0.3879 - val_accuracy: 0.9557\n",
      "Epoch 95/100\n",
      "139/139 [==============================] - 0s 3ms/step - loss: 0.3839 - accuracy: 0.9562 - val_loss: 0.3872 - val_accuracy: 0.9563\n",
      "Epoch 96/100\n",
      "139/139 [==============================] - 0s 2ms/step - loss: 0.3833 - accuracy: 0.9576 - val_loss: 0.3868 - val_accuracy: 0.9567\n",
      "Epoch 97/100\n",
      "139/139 [==============================] - 0s 2ms/step - loss: 0.3828 - accuracy: 0.9564 - val_loss: 0.3863 - val_accuracy: 0.9570\n",
      "Epoch 98/100\n",
      "139/139 [==============================] - 0s 2ms/step - loss: 0.3823 - accuracy: 0.9572 - val_loss: 0.3859 - val_accuracy: 0.9577\n",
      "Epoch 99/100\n",
      "139/139 [==============================] - 0s 2ms/step - loss: 0.3818 - accuracy: 0.9582 - val_loss: 0.3848 - val_accuracy: 0.9580\n",
      "Epoch 100/100\n",
      "139/139 [==============================] - 0s 2ms/step - loss: 0.3813 - accuracy: 0.9582 - val_loss: 0.3843 - val_accuracy: 0.9583\n"
     ]
    }
   ],
   "source": [
    "normalizer = keras.layers.Normalization(axis=-1)\n",
    "normalizer.adapt(data[['ra', 'dec', 'u', 'g', 'r', 'i', 'z', 'redshift']])\n",
    "\n",
    "model = keras.Sequential([\n",
    "\tnormalizer,\n",
    "\tkeras.layers.Dense(9, activation='relu'),\n",
    "\tkeras.layers.Dense(9, activation='relu'),\n",
    "\tkeras.layers.Dense(3, activation='sigmoid')\n",
    "])\n",
    "\n",
    "model.compile(\n",
    "\toptimizer='sgd',\n",
    "\tloss=keras.losses.BinaryCrossentropy(),\n",
    "\tmetrics=['accuracy']\n",
    ")\n",
    "\n",
    "history = model.fit(professor['training']['questions'], professor['training']['answers'], validation_data=(professor['test']['questions'], professor['test']['answers']), epochs=EPOCHS, batch_size=BATCH_SIZE)"
   ]
  },
  {
   "cell_type": "code",
   "execution_count": 4,
   "metadata": {},
   "outputs": [
    {
     "name": "stdout",
     "output_type": "stream",
     "text": [
      "63/63 [==============================] - 0s 1ms/step - loss: 0.3829 - accuracy: 0.9550\n"
     ]
    },
    {
     "data": {
      "text/plain": [
       "[0.38290801644325256, 0.9549999833106995]"
      ]
     },
     "execution_count": 4,
     "metadata": {},
     "output_type": "execute_result"
    }
   ],
   "source": [
    "model.evaluate(professor[\"evaluation\"][\"questions\"], professor['evaluation']['answers'])"
   ]
  },
  {
   "cell_type": "code",
   "execution_count": 5,
   "metadata": {},
   "outputs": [
    {
     "name": "stdout",
     "output_type": "stream",
     "text": [
      "Model: \"sequential\"\n",
      "_________________________________________________________________\n",
      "Layer (type)                 Output Shape              Param #   \n",
      "=================================================================\n",
      "normalization (Normalization (None, 8)                 17        \n",
      "_________________________________________________________________\n",
      "dense (Dense)                (None, 9)                 81        \n",
      "_________________________________________________________________\n",
      "dense_1 (Dense)              (None, 9)                 90        \n",
      "_________________________________________________________________\n",
      "dense_2 (Dense)              (None, 3)                 30        \n",
      "=================================================================\n",
      "Total params: 218\n",
      "Trainable params: 201\n",
      "Non-trainable params: 17\n",
      "_________________________________________________________________\n"
     ]
    }
   ],
   "source": [
    "model.summary()"
   ]
  },
  {
   "cell_type": "code",
   "execution_count": 6,
   "metadata": {},
   "outputs": [
    {
     "data": {
      "text/html": [
       "<div>\n",
       "<style scoped>\n",
       "    .dataframe tbody tr th:only-of-type {\n",
       "        vertical-align: middle;\n",
       "    }\n",
       "\n",
       "    .dataframe tbody tr th {\n",
       "        vertical-align: top;\n",
       "    }\n",
       "\n",
       "    .dataframe thead th {\n",
       "        text-align: right;\n",
       "    }\n",
       "</style>\n",
       "<table border=\"1\" class=\"dataframe\">\n",
       "  <thead>\n",
       "    <tr style=\"text-align: right;\">\n",
       "      <th></th>\n",
       "      <th>Unnamed: 0</th>\n",
       "      <th>ra</th>\n",
       "      <th>dec</th>\n",
       "      <th>u</th>\n",
       "      <th>g</th>\n",
       "      <th>r</th>\n",
       "      <th>i</th>\n",
       "      <th>z</th>\n",
       "      <th>redshift</th>\n",
       "      <th>class_GALAXY</th>\n",
       "      <th>class_QSO</th>\n",
       "      <th>class_STAR</th>\n",
       "    </tr>\n",
       "  </thead>\n",
       "  <tbody>\n",
       "    <tr>\n",
       "      <th>8000</th>\n",
       "      <td>8000</td>\n",
       "      <td>0.190349</td>\n",
       "      <td>-0.599724</td>\n",
       "      <td>-0.079026</td>\n",
       "      <td>-0.204305</td>\n",
       "      <td>-0.154887</td>\n",
       "      <td>-0.110684</td>\n",
       "      <td>-0.030056</td>\n",
       "      <td>-0.370001</td>\n",
       "      <td>0.1</td>\n",
       "      <td>0.1</td>\n",
       "      <td>0.9</td>\n",
       "    </tr>\n",
       "    <tr>\n",
       "      <th>8001</th>\n",
       "      <td>8001</td>\n",
       "      <td>0.188651</td>\n",
       "      <td>-0.598305</td>\n",
       "      <td>0.745707</td>\n",
       "      <td>0.702019</td>\n",
       "      <td>0.629892</td>\n",
       "      <td>0.602372</td>\n",
       "      <td>0.601848</td>\n",
       "      <td>-0.367239</td>\n",
       "      <td>0.1</td>\n",
       "      <td>0.1</td>\n",
       "      <td>0.9</td>\n",
       "    </tr>\n",
       "    <tr>\n",
       "      <th>8002</th>\n",
       "      <td>8002</td>\n",
       "      <td>0.190667</td>\n",
       "      <td>-0.604786</td>\n",
       "      <td>1.004693</td>\n",
       "      <td>0.648648</td>\n",
       "      <td>0.312791</td>\n",
       "      <td>0.092810</td>\n",
       "      <td>-0.032583</td>\n",
       "      <td>-0.091988</td>\n",
       "      <td>0.9</td>\n",
       "      <td>0.1</td>\n",
       "      <td>0.1</td>\n",
       "    </tr>\n",
       "    <tr>\n",
       "      <th>8003</th>\n",
       "      <td>8003</td>\n",
       "      <td>0.191552</td>\n",
       "      <td>-0.603357</td>\n",
       "      <td>0.394077</td>\n",
       "      <td>1.518491</td>\n",
       "      <td>1.645257</td>\n",
       "      <td>1.595851</td>\n",
       "      <td>1.568480</td>\n",
       "      <td>3.531147</td>\n",
       "      <td>0.1</td>\n",
       "      <td>0.9</td>\n",
       "      <td>0.1</td>\n",
       "    </tr>\n",
       "    <tr>\n",
       "      <th>8004</th>\n",
       "      <td>8004</td>\n",
       "      <td>0.191230</td>\n",
       "      <td>-0.598623</td>\n",
       "      <td>-1.215336</td>\n",
       "      <td>-1.586335</td>\n",
       "      <td>-1.722162</td>\n",
       "      <td>-1.761351</td>\n",
       "      <td>-1.850619</td>\n",
       "      <td>-0.164494</td>\n",
       "      <td>0.9</td>\n",
       "      <td>0.1</td>\n",
       "      <td>0.1</td>\n",
       "    </tr>\n",
       "  </tbody>\n",
       "</table>\n",
       "</div>"
      ],
      "text/plain": [
       "      Unnamed: 0        ra       dec         u         g         r         i  \\\n",
       "8000        8000  0.190349 -0.599724 -0.079026 -0.204305 -0.154887 -0.110684   \n",
       "8001        8001  0.188651 -0.598305  0.745707  0.702019  0.629892  0.602372   \n",
       "8002        8002  0.190667 -0.604786  1.004693  0.648648  0.312791  0.092810   \n",
       "8003        8003  0.191552 -0.603357  0.394077  1.518491  1.645257  1.595851   \n",
       "8004        8004  0.191230 -0.598623 -1.215336 -1.586335 -1.722162 -1.761351   \n",
       "\n",
       "             z  redshift  class_GALAXY  class_QSO  class_STAR  \n",
       "8000 -0.030056 -0.370001           0.1        0.1         0.9  \n",
       "8001  0.601848 -0.367239           0.1        0.1         0.9  \n",
       "8002 -0.032583 -0.091988           0.9        0.1         0.1  \n",
       "8003  1.568480  3.531147           0.1        0.9         0.1  \n",
       "8004 -1.850619 -0.164494           0.9        0.1         0.1  "
      ]
     },
     "execution_count": 6,
     "metadata": {},
     "output_type": "execute_result"
    }
   ],
   "source": [
    "evaluation.head(5)"
   ]
  },
  {
   "cell_type": "code",
   "execution_count": 7,
   "metadata": {},
   "outputs": [
    {
     "data": {
      "text/plain": [
       "<tf.Tensor: shape=(5, 3), dtype=float32, numpy=\n",
       "array([[0.17879936, 0.08531305, 0.8272298 ],\n",
       "       [0.3452379 , 0.08443668, 0.67007244],\n",
       "       [0.9024625 , 0.10329384, 0.09015858],\n",
       "       [0.12687007, 0.8922597 , 0.08225214],\n",
       "       [0.8672509 , 0.11194041, 0.11525351]], dtype=float32)>"
      ]
     },
     "execution_count": 7,
     "metadata": {},
     "output_type": "execute_result"
    }
   ],
   "source": [
    "model.__call__(professor['evaluation']['questions'].head(5))"
   ]
  },
  {
   "cell_type": "code",
   "execution_count": 8,
   "metadata": {},
   "outputs": [],
   "source": [
    "# def create_model(input_shape=11, output_shape=3):\n",
    "#     m = keras.Sequential(\n",
    "#         [\n",
    "#             tf.keras.layers.Dense(40, activation='relu', input_dim=input_shape),  # input shape required\n",
    "#             tf.keras.layers.Dense(40, activation='relu'),\n",
    "#             tf.keras.layers.Dense(20, activation='relu'),\n",
    "#             tf.keras.layers.Dense(output_shape, activation='softmax')\n",
    "#         ]\n",
    "#     )\n",
    "#     return m\n",
    "# lr_schedule = keras.optimizers.schedules.ExponentialDecay(\n",
    "#     initial_learning_rate=3e-5,\n",
    "#     decay_steps=10000,\n",
    "#     decay_rate=0.9\n",
    "# )\n",
    "# optimizer = keras.optimizers.SGD(learning_rate=lr_schedule)\n",
    "# # Instantiate a loss function.\n",
    "# loss_fn = keras.losses.CategoricalCrossentropy(from_logits=True)\n",
    "# model = create_model(8)\n",
    "# model.compile(loss=loss_fn, optimizer='sgd', metrics=[\"accuracy\"])\n",
    "# history = model.fit(professor['training']['questions'], professor['training']['answers'], validation_data=(professor['test']['questions'], professor['test']['answers']), batch_size=36, epochs=50, verbose=1)"
   ]
  },
  {
   "cell_type": "code",
   "execution_count": 9,
   "metadata": {},
   "outputs": [
    {
     "data": {
      "text/plain": [
       "<keras.callbacks.History at 0x130f70820>"
      ]
     },
     "execution_count": 9,
     "metadata": {},
     "output_type": "execute_result"
    }
   ],
   "source": [
    "history"
   ]
  },
  {
   "cell_type": "code",
   "execution_count": 12,
   "metadata": {},
   "outputs": [
    {
     "data": {
      "text/plain": [
       "Text(0.5, 1.0, 'Training and Validation Accuracy')"
      ]
     },
     "execution_count": 12,
     "metadata": {},
     "output_type": "execute_result"
    },
    {
     "data": {
      "image/png": "[encoded data removed]",
      "text/plain": [
       "<Figure size 576x576 with 1 Axes>"
      ]
     },
     "metadata": {
      "needs_background": "light"
     },
     "output_type": "display_data"
    }
   ],
   "source": [
    "\n",
    "import matplotlib.pyplot as plt\n",
    "epochs_range = range(EPOCHS)\n",
    "plt.figure(figsize=(8, 8))\n",
    "plt.plot(epochs_range, history.history[\"loss\"], label='Training Accuracy')\n",
    "plt.plot(epochs_range, history.history[\"val_loss\"], label='Validation Accuracy')\n",
    "plt.legend(loc='lower right')\n",
    "plt.title('Training and Validation Accuracy')"
   ]
  },
  {
   "cell_type": "code",
   "execution_count": 11,
   "metadata": {},
   "outputs": [
    {
     "ename": "AttributeError",
     "evalue": "Can't pickle local object 'PreprocessingLayer.make_adapt_function.<locals>.adapt_step'",
     "output_type": "error",
     "traceback": [
      "\u001b[0;31m---------------------------------------------------------------------------\u001b[0m",
      "\u001b[0;31mAttributeError\u001b[0m                            Traceback (most recent call last)",
      "\u001b[0;32m/var/folders/4l/2mhtxr_d68z7kb_64f2vhw_40000gn/T/ipykernel_4742/2690240787.py\u001b[0m in \u001b[0;36m<module>\u001b[0;34m\u001b[0m\n\u001b[1;32m      1\u001b[0m \u001b[0;32mimport\u001b[0m \u001b[0mpickle\u001b[0m\u001b[0;34m\u001b[0m\u001b[0;34m\u001b[0m\u001b[0m\n\u001b[1;32m      2\u001b[0m \u001b[0;32mwith\u001b[0m \u001b[0mopen\u001b[0m\u001b[0;34m(\u001b[0m\u001b[0;34m\"simple_model.pkl\"\u001b[0m\u001b[0;34m,\u001b[0m \u001b[0;34m\"a\"\u001b[0m\u001b[0;34m)\u001b[0m \u001b[0;32mas\u001b[0m \u001b[0mf\u001b[0m\u001b[0;34m:\u001b[0m\u001b[0;34m\u001b[0m\u001b[0;34m\u001b[0m\u001b[0m\n\u001b[0;32m----> 3\u001b[0;31m         \u001b[0mpickle\u001b[0m\u001b[0;34m.\u001b[0m\u001b[0mdump\u001b[0m\u001b[0;34m(\u001b[0m\u001b[0mmodel\u001b[0m\u001b[0;34m,\u001b[0m \u001b[0mf\u001b[0m\u001b[0;34m)\u001b[0m\u001b[0;34m\u001b[0m\u001b[0;34m\u001b[0m\u001b[0m\n\u001b[0m",
      "\u001b[0;31mAttributeError\u001b[0m: Can't pickle local object 'PreprocessingLayer.make_adapt_function.<locals>.adapt_step'"
     ]
    }
   ],
   "source": [
    "import pickle\n",
    "with open(\"simple_model.pkl\", \"a\") as f:\n",
    "\tpickle.dump(model, f)"
   ]
  },
  {
   "cell_type": "code",
   "execution_count": null,
   "metadata": {},
   "outputs": [],
   "source": []
  }
 ],
 "metadata": {
  "interpreter": {
   "hash": "df43c9307c76c4cd9923f314021df753cfc5fee661cd973f404bb263823edc85"
  },
  "kernelspec": {
   "display_name": "Python 3.9.7 64-bit ('.venv': poetry)",
   "name": "python3"
  },
  "language_info": {
   "codemirror_mode": {
    "name": "ipython",
    "version": 3
   },
   "file_extension": ".py",
   "mimetype": "text/x-python",
   "name": "python",
   "nbconvert_exporter": "python",
   "pygments_lexer": "ipython3",
   "version": "3.9.7"
  },
  "orig_nbformat": 4
 },
 "nbformat": 4,
 "nbformat_minor": 2
}
